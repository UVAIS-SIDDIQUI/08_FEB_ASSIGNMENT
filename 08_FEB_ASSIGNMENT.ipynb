{
 "cells": [
  {
   "cell_type": "code",
   "execution_count": 2,
   "id": "616faedf-ebae-46e0-aee9-392eccbe4de0",
   "metadata": {},
   "outputs": [],
   "source": [
    "# Q1. What is Abstraction in OOps? Explain with an example."
   ]
  },
  {
   "cell_type": "markdown",
   "id": "aabe7009-c351-48ab-95d5-8f9cdd25213b",
   "metadata": {},
   "source": [
    "ANS= Abstraction in python is defined as a process of handling complexity by hiding unnecessary information from the user. This is one of the core concepts of object-oriented programming (OOP) languages.  Abstraction provides a programmer to hide all the irrelevant data/process of an application in order to reduce complexity and increase the efficiency of the program . In Python, abstraction can be achieved by having/using abstract classes and methods in our programs."
   ]
  },
  {
   "cell_type": "code",
   "execution_count": 4,
   "id": "69c5df1d-4838-4214-91fe-f5ef1ac23d2b",
   "metadata": {},
   "outputs": [],
   "source": [
    "# EXAMPLE\n",
    "import abc\n",
    "class UVAIS:\n",
    "    \n",
    "    @abc.abstractmethod\n",
    "    def students_detials(self):\n",
    "        pass\n",
    "    \n",
    "    @abc.abstractmethod\n",
    "    def student_assignemnt(self):\n",
    "        pass\n",
    "    \n",
    "    @abc.abstractmethod\n",
    "    def student_marks(self):\n",
    "        pass"
   ]
  },
  {
   "cell_type": "code",
   "execution_count": 5,
   "id": "dbd6769c-c228-43dc-bddc-22fb49dd9b16",
   "metadata": {},
   "outputs": [],
   "source": [
    "class student_detils(UVAIS):\n",
    "    \n",
    "    def students_detials(self):\n",
    "        return \"this is a meth for taking students details\"\n",
    "    \n",
    "    def student_assignemnt(self):\n",
    "        return \"this is a meth for assing details for a perticualt student\""
   ]
  },
  {
   "cell_type": "code",
   "execution_count": 6,
   "id": "33ad9563-dc5b-45bc-8080-dcce6e04385d",
   "metadata": {},
   "outputs": [],
   "source": [
    "class data_science_maters(UVAIS):\n",
    "    \n",
    "    def students_detials(self):\n",
    "        return \"this will return a student details for data science masters \"\n",
    "    \n",
    "    def student_assignemnt(self):\n",
    "        return \"this will give you a studnt assignment detaild for data science masters \""
   ]
  },
  {
   "cell_type": "code",
   "execution_count": 7,
   "id": "fb650173-e078-4d10-bf57-127fd70962af",
   "metadata": {},
   "outputs": [
    {
     "data": {
      "text/plain": [
       "'this will return a student details for data science masters '"
      ]
     },
     "execution_count": 7,
     "metadata": {},
     "output_type": "execute_result"
    }
   ],
   "source": [
    "dsm = data_science_maters()\n",
    "dsm.students_detials()"
   ]
  },
  {
   "cell_type": "code",
   "execution_count": 8,
   "id": "5e779746-84c5-4873-a874-417d9a694a0d",
   "metadata": {},
   "outputs": [
    {
     "data": {
      "text/plain": [
       "'this is a meth for taking students details'"
      ]
     },
     "execution_count": 8,
     "metadata": {},
     "output_type": "execute_result"
    }
   ],
   "source": [
    "sd= student_detils()\n",
    "sd.students_detials()"
   ]
  },
  {
   "cell_type": "code",
   "execution_count": 9,
   "id": "4a363056-5d29-4d3e-b839-dd7f4a39a66f",
   "metadata": {},
   "outputs": [],
   "source": [
    "# Q2. Differentiate between Abstraction and Encapsulation. Explain with an example."
   ]
  },
  {
   "cell_type": "markdown",
   "id": "1b383dc7-127d-4363-bab7-39c50794a6ec",
   "metadata": {},
   "source": [
    "ANS = Abstraction and Encapsulation are two important concepts in Object-Oriented Programming (OOP), and while they are related, they serve different purposes and have distinct roles.\n",
    "\n",
    "Abstraction:\n",
    "Abstraction refers to the process of simplifying complex systems by breaking them down into their essential features while hiding unnecessary details. It focuses on what an object does rather than how it does it. Abstraction is achieved through abstract classes and interfaces, which define the structure and behavior that concrete subclasses must implement.\n",
    "In the example provided in the previous answer, the Shape class represents abstraction. It defines two abstract methods, area() and perimeter(), which outline the behavior expected from any concrete subclass representing a shape. The Shape class itself cannot be instantiated, and it serves as a blueprint for creating concrete subclasses like Circle and Rectangle.\n",
    "\n",
    "Encapsulation:\n",
    "Encapsulation is the concept of bundling data (attributes) and methods (functions) that operate on that data within a single unit, known as a class. The data is kept private and can only be accessed or modified through public methods provided by the class. Encapsulation helps in achieving data hiding and protection, preventing direct external access to an object's internal state."
   ]
  },
  {
   "cell_type": "code",
   "execution_count": 10,
   "id": "e7171ad2-326e-4220-bf67-5a62bdd085c2",
   "metadata": {},
   "outputs": [
    {
     "name": "stdout",
     "output_type": "stream",
     "text": [
      "Account Balance: 1300\n",
      "Account Number: 123456789\n"
     ]
    }
   ],
   "source": [
    "# EXAMPLE OF ENCAPSULATION \n",
    "class BankAccount:\n",
    "    def __init__(self, account_number, balance):\n",
    "        self.__account_number = account_number \n",
    "        self.__balance = balance  \n",
    "\n",
    "    def deposit(self, amount):\n",
    "        self.__balance += amount\n",
    "\n",
    "    def withdraw(self, amount):\n",
    "        if amount <= self.__balance:\n",
    "            self.__balance -= amount\n",
    "        else:\n",
    "            print(\"Insufficient balance.\")\n",
    "\n",
    "    def get_balance(self):\n",
    "        return self.__balance\n",
    "\n",
    "    def get_account_number(self):\n",
    "        return self.__account_number\n",
    "\n",
    "\n",
    "account1 = BankAccount(\"123456789\", 1000)\n",
    "\n",
    "\n",
    "account1.deposit(500)\n",
    "account1.withdraw(200)\n",
    "print(\"Account Balance:\", account1.get_balance())\n",
    "print(\"Account Number:\", account1.get_account_number())\n"
   ]
  },
  {
   "cell_type": "code",
   "execution_count": 13,
   "id": "2011f066-2523-41d5-b81e-e9f30b55ce0f",
   "metadata": {},
   "outputs": [
    {
     "data": {
      "text/plain": [
       "'this will return a student details for data science masters '"
      ]
     },
     "execution_count": 13,
     "metadata": {},
     "output_type": "execute_result"
    }
   ],
   "source": [
    "# EXAMPE OF ABSTRACTION \n",
    "# EXAMPLE\n",
    "import abc\n",
    "class UVAIS:\n",
    "    \n",
    "    @abc.abstractmethod\n",
    "    def students_detials(self):\n",
    "        pass\n",
    "    \n",
    "    @abc.abstractmethod\n",
    "    def student_assignemnt(self):\n",
    "        pass\n",
    "    \n",
    "    @abc.abstractmethod\n",
    "    def student_marks(self):\n",
    "        pass\n",
    "class student_detils(UVAIS):\n",
    "    \n",
    "    def students_detials(self):\n",
    "        return \"this is a meth for taking students details\"\n",
    "    \n",
    "    def student_assignemnt(self):\n",
    "        return \"this is a meth for assing details for a perticualt student\"\n",
    "class data_science_maters(UVAIS):\n",
    "    \n",
    "    def students_detials(self):\n",
    "        return \"this will return a student details for data science masters \"\n",
    "    \n",
    "    def student_assignemnt(self):\n",
    "        return \"this will give you a studnt assignment detaild for data science masters \"\n",
    "dsm = data_science_maters()\n",
    "dsm.students_detials()"
   ]
  },
  {
   "cell_type": "code",
   "execution_count": 14,
   "id": "5d8c1410-47d4-4293-8cca-95e1d119c15b",
   "metadata": {},
   "outputs": [
    {
     "data": {
      "text/plain": [
       "'this is a meth for taking students details'"
      ]
     },
     "execution_count": 14,
     "metadata": {},
     "output_type": "execute_result"
    }
   ],
   "source": [
    "sd= student_detils()\n",
    "sd.students_detials()"
   ]
  },
  {
   "cell_type": "code",
   "execution_count": 15,
   "id": "017577ae-88cf-45be-b794-cd41f59d5c5f",
   "metadata": {},
   "outputs": [],
   "source": [
    "# Q3. What is abc module in python? Why is it used?"
   ]
  },
  {
   "cell_type": "markdown",
   "id": "0b5cb63b-ddba-4c20-a0a3-870215530eb6",
   "metadata": {},
   "source": [
    "ANS = The abc module in Python stands for \"Abstract Base Classes.\" It provides a way to work with abstract classes and interfaces in Python, which is a key concept in Object-Oriented Programming (OOP). Abstract Base Classes (ABCs) allow you to define a common structure and interface for a group of related classes, without providing their implementations. This is a form of abstraction, where you focus on what a class should do rather than how it should do it.\n",
    "\n",
    "The main components of the abc module are the ABC class and the abstractmethod decorator.\n",
    "\n",
    "ABC class:\n",
    "The ABC class is the core of the abc module. It is used as a base class for defining abstract classes. Abstract classes are classes that cannot be instantiated directly, and they typically contain one or more abstract methods that have no implementation. The purpose of an abstract class is to serve as a blueprint for its concrete subclasses, defining a set of methods that the subclasses must implement.\n",
    "\n",
    "abstractmethod decorator:\n",
    "The abstractmethod decorator is used to define abstract methods within abstract classes. An abstract method is a method that has no implementation in the abstract class but must be implemented in its concrete subclasses. By using the abstractmethod decorator, we indicate that any subclass of the abstract class must provide its own implementation of that method."
   ]
  },
  {
   "cell_type": "code",
   "execution_count": 17,
   "id": "ffb4259b-a86f-4d48-909f-f378c904abab",
   "metadata": {},
   "outputs": [],
   "source": [
    "# Q4. How can we achieve data abstraction?"
   ]
  },
  {
   "cell_type": "markdown",
   "id": "2183a7d9-416f-4bd2-86fa-6e0acd1f5ff9",
   "metadata": {},
   "source": [
    "abstraction can be achieved by having/using abstract classes and methods in our programs.\n",
    "\n",
    "ANS = An abstract method is a method that is declared, but does not contain implementation. An abstract method in a base class identifies the functionality that should be implemented by all its subclasses. However, since the implementation of an abstract method would differ from one subclass to another, often the method body comprises just a pass statement. Every subclass of the base class will ride this method with its implementation. A class containing abstract methods is called abstract class.Python provides the abc module to use the abstraction in the Python program, syntax as:\n",
    "\n",
    "1from abc import ABC     \n",
    "2lass ClassName(ABC):\n",
    "\n",
    "\n",
    "*Abstract Classes:\n",
    "\n",
    "In Python, you can achieve data abstraction using abstract classes provided by the abc (Abstract Base Classes) module. Abstract classes cannot be instantiated directly and serve as blueprints for other classes. They define abstract methods, which are methods without any implementation.\n",
    "\n",
    "To create an abstract class, you need to inherit from the ABC class and use the @abstractmethod decorator for methods that should be abstract."
   ]
  },
  {
   "cell_type": "code",
   "execution_count": 18,
   "id": "f63b69c9-177e-4672-b8a8-f95502b12c23",
   "metadata": {},
   "outputs": [],
   "source": [
    "# Q5. Can we create an instance of an abstract class? Explain your answer."
   ]
  },
  {
   "cell_type": "markdown",
   "id": "78fff51e-7dd3-4f34-b916-a5d1e33eca17",
   "metadata": {},
   "source": [
    "No, you cannot create an instance of an abstract class in Python. Abstract classes are meant to be incomplete and act as blueprints for other classes to inherit from. They are designed to define a common interface and a set of methods that must be implemented by the concrete subclasses.\n",
    "\n",
    "Attempting to create an instance of an abstract class will result in an error"
   ]
  },
  {
   "cell_type": "code",
   "execution_count": null,
   "id": "d9460fb8-fcf0-4a07-b8ee-f1c14161fd25",
   "metadata": {},
   "outputs": [],
   "source": []
  }
 ],
 "metadata": {
  "kernelspec": {
   "display_name": "Python 3 (ipykernel)",
   "language": "python",
   "name": "python3"
  },
  "language_info": {
   "codemirror_mode": {
    "name": "ipython",
    "version": 3
   },
   "file_extension": ".py",
   "mimetype": "text/x-python",
   "name": "python",
   "nbconvert_exporter": "python",
   "pygments_lexer": "ipython3",
   "version": "3.10.8"
  }
 },
 "nbformat": 4,
 "nbformat_minor": 5
}
